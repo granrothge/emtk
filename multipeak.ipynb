{
 "cells": [
  {
   "cell_type": "markdown",
   "id": "b20b9f92",
   "metadata": {},
   "source": [
    "# Multipeak distributions\n",
    "\n",
    "## Introduction\n",
    "\n",
    "This notebook setup a framework for creating a multipeak distribution (MultiPeakDistribution) composed by the sum of scipy distributions, a MultiPeakModel where a sum of scipy distributions can be fitted to observations (events) using Maximum Likelihood Estimation"
   ]
  },
  {
   "cell_type": "code",
   "execution_count": 1,
   "id": "bb8c397e",
   "metadata": {},
   "outputs": [],
   "source": [
    "from scipy.stats import distributions as scidists\n",
    "from scipy.stats import fit as scifit\n",
    "from scipy.optimize import minimize, LinearConstraint\n",
    "import numpy as np\n",
    "import matplotlib.pyplot as plt\n",
    "import statsmodels.api as sm\n",
    "from statsmodels.base.model import GenericLikelihoodModel"
   ]
  },
  {
   "cell_type": "code",
   "execution_count": 2,
   "id": "a44d29f6",
   "metadata": {},
   "outputs": [],
   "source": [
    "class MultiPeakDistribution:\n",
    "    \"\"\"\n",
    "    Class for creating multipeak distributions from a sum of weighted scipy distributions where each is defined by \n",
    "    a 'loc' and 'scale' parameter\n",
    "    \n",
    "    \"\"\"\n",
    "    \n",
    "    def __init__(self, dists, locs, scales, weights):\n",
    "        \"\"\"\n",
    "        aaa\n",
    "        \"\"\"\n",
    "        \n",
    "        # TODO consider dists to be a list of dist instances \n",
    "        \n",
    "        self._dists = dists\n",
    "\n",
    "        self._locs = locs\n",
    "        self._scales = scales\n",
    "        \n",
    "        # normalize weights\n",
    "        self._weights = np.array(weights)/np.sum(weights)\n",
    "\n",
    "        self._frozen_dists = [dist(loc, scale) for dist, loc, scale in zip(self._dists, self._locs, self._scales)]\n",
    "\n",
    "    \n",
    "    def get_frozen_dists(self):\n",
    "        return self._frozen_dists\n",
    "    \n",
    "    def get_weights(self):\n",
    "        return self._weights\n",
    "    \n",
    "    def pdf(self, x):\n",
    "        pdfs = [dist.pdf(x) for dist in self._frozen_dists]\n",
    "        return np.dot(self._weights, pdfs)\n",
    "    \n",
    "    def rvs(self, size):\n",
    "        dselections_indexes = np.random.choice(np.arange(len(self._frozen_dists)), size=size, \n",
    "                                               replace=True, p=self._weights, )\n",
    "        indexes, counts = np.unique(dselections_indexes, return_counts=True)\n",
    "        rvs = np.concatenate(\n",
    "                    [self._frozen_dists[ind].rvs(size=count) for ind, count in zip(indexes, counts)],\n",
    "            axis=0)\n",
    "        np.random.shuffle(rvs)\n",
    "        return rvs\n",
    "    "
   ]
  },
  {
   "cell_type": "code",
   "execution_count": 3,
   "id": "ac3916a6",
   "metadata": {},
   "outputs": [],
   "source": [
    "class MultiPeakModel:\n",
    "\n",
    "        def __init__(self, events, dists, initial_locs, initial_scales, initial_weights):\n",
    "            self._dists = dists\n",
    "            self._events = events\n",
    "            self.initial_locs = initial_locs\n",
    "            self.initial_scales = initial_scales\n",
    "            self.initial_weights = initial_weights/np.sum(initial_weights)\n",
    "            \n",
    "        def nloglikeobs(self, params):\n",
    "            params.shape = (3, -1)\n",
    "            mpeak = MultiPeakDistribution(self._dists, *params)\n",
    "            pdfs = mpeak.pdf(self._events)\n",
    "            return -np.sum(np.log(mpeak.pdf(self._events)))\n",
    "        \n",
    "        def nlikeobs(self, params):\n",
    "            params.shape = (3, -1)\n",
    "            mpeak = MultiPeakDistribution(self._dists, *params)\n",
    "            pdfs = mpeak.pdf(self._events)\n",
    "            return -np.prod(mpeak.pdf(self._events))\n",
    "        \n",
    "        def fit(self, initial_locs=None, initial_scales=None, initial_weights=None, method='BFGS', \n",
    "                log=False, constraints=(), param_tol=1e-6):\n",
    "            \"\"\"\n",
    "            Fit the parameters for a\n",
    "            \n",
    "            \"\"\"\n",
    "            \n",
    "            # Reset parameters if requested, i.e., provided as arguments to this method\n",
    "            for key in ['initial_locs', 'initial_scales', 'initial_weights']: \n",
    "                value = np.asarray(eval(key))\n",
    "                if value.all() != None:\n",
    "                    setattr(self, key, value)\n",
    "                elif value.any() != None:\n",
    "                    raise(\"WARNING: All values of {} must be defined to reset initial parameters Current value is {}={}\".format(key, key, value))\n",
    "                else:\n",
    "                    pass\n",
    "            \n",
    "            # format parameters for the minimize and target function\n",
    "            initial_params = np.concatenate([self.initial_locs, self.initial_scales, self.initial_weights/np.sum(self.initial_weights)])\n",
    "            \n",
    "            if log is True:\n",
    "                target_func = self.nloglikeobs\n",
    "            else:\n",
    "                target_func = self.nlikeobs\n",
    "            return minimize(target_func, x0=initial_params, args = (), method=method, constraints=constraints)\n",
    "            \n"
   ]
  },
  {
   "cell_type": "code",
   "execution_count": 4,
   "id": "79d3f60e",
   "metadata": {},
   "outputs": [],
   "source": [
    "# common constraints\n",
    "\n",
    "class NormConstraint:\n",
    "    \n",
    "    def __init__(self, n_params):\n",
    "        self.nweights = int(n_params/3)\n",
    "        self.n_other = n_params - self.nweights\n",
    "        \n",
    "        # lower bounds for each weight \n",
    "        self.lowerbounds =  np.zeros(self.nweights+1)\n",
    "        # lower bound for norm (sum of weights)\n",
    "        self.lowerbounds[-1] = 1\n",
    "        # upper bounds for each weight and norm\n",
    "        self.upperbounds = np.ones(self.nweights+1)\n",
    "        \n",
    "        \n",
    "        self.A_other = np.zeros([self.nweights+1, self.n_other])\n",
    "        self.A_iweights = np.identity(self.nweights)\n",
    "        self.A_norm = np.ones([1, self.nweights])\n",
    "        self.A_weights = np.concatenate([self.A_iweights, self.A_norm], axis=0)\n",
    "        self.A = np.concatenate([self.A_other, self.A_weights], axis=1)\n",
    "        \n",
    "        \n",
    "    def __call__(self):\n",
    "        return LinearConstraint(self.A, lb=self.lowerbounds, ub=self.upperbounds)\n",
    "        \n",
    "        \n",
    "class ScaleConstraints:\n",
    "    \n",
    "    def __init__(self, n_params):\n",
    "        self.nscales = int(n_params/3)\n",
    "        self.lowerbounds = np.zeros(self.nscales)\n",
    "        self.upperbounds = np.inf*np.ones(self.nscales)\n",
    "        self.A = np.concatenate( [np.zeros([self.nscales,self.nscales]), \n",
    "                                  np.identity(self.nscales), \n",
    "                                  np.zeros([self.nscales,self.nscales])], \n",
    "                                axis=1 )\n",
    "        \n",
    "    def __call__(self):\n",
    "        return LinearConstraint(self.A, lb=self.lowerbounds, ub=self.upperbounds)\n",
    "    "
   ]
  },
  {
   "cell_type": "code",
   "execution_count": null,
   "id": "786f82bb",
   "metadata": {},
   "outputs": [],
   "source": []
  },
  {
   "cell_type": "code",
   "execution_count": 5,
   "id": "452de0e3",
   "metadata": {
    "scrolled": true
   },
   "outputs": [
    {
     "data": {
      "text/plain": [
       "[<matplotlib.lines.Line2D at 0x198441950>]"
      ]
     },
     "execution_count": 5,
     "metadata": {},
     "output_type": "execute_result"
    },
    {
     "data": {
      "image/png": "[encoded data removed]",
      "text/plain": [
       "<Figure size 640x480 with 1 Axes>"
      ]
     },
     "metadata": {},
     "output_type": "display_data"
    }
   ],
   "source": [
    "npeaks = 3\n",
    "\n",
    "distributions = npeaks*[scidists.norm]\n",
    "\n",
    "locations = np.arange(npeaks) + 1.\n",
    "\n",
    "scales = np.arange(npeaks) + 0.5\n",
    "\n",
    "weights = np.arange(npeaks) + 1.\n",
    "\n",
    "np.random.seed(333)\n",
    "dev = 1.*(np.random.random_sample(npeaks)-0.5)\n",
    "\n",
    "#iloc = np.linspace(0.,5., npeaks)\n",
    "iloc = locations + dev\n",
    "\n",
    "#iscale = np.ones(npeaks)\n",
    "iscale = scales + dev\n",
    "\n",
    "#iweights = np.ones(npeaks)\n",
    "iweights = weights + dev\n",
    "\n",
    "multi_peak = MultiPeakDistribution(distributions, locations, scales, weights)\n",
    "\n",
    "peaks = multi_peak.get_frozen_dists()\n",
    "\n",
    "xrange = [-6,12]\n",
    "\n",
    "xgrid = np.linspace(*xrange, 200)\n",
    "\n",
    "dx = (xrange[1] - xrange[0])/len(xgrid)\n",
    "\n",
    "for w, peak in zip(weights, peaks):\n",
    "    plt.plot(xgrid, w*peak.pdf(xgrid)/np.sum(weights) )\n",
    "    \n",
    "plt.plot(xgrid, multi_peak.pdf(xgrid))\n"
   ]
  },
  {
   "cell_type": "code",
   "execution_count": 6,
   "id": "7def32c7",
   "metadata": {},
   "outputs": [
    {
     "data": {
      "text/plain": [
       "[<matplotlib.lines.Line2D at 0x1985b6290>]"
      ]
     },
     "execution_count": 6,
     "metadata": {},
     "output_type": "execute_result"
    },
    {
     "data": {
      "image/png": "[encoded data removed]",
      "text/plain": [
       "<Figure size 640x480 with 1 Axes>"
      ]
     },
     "metadata": {},
     "output_type": "display_data"
    }
   ],
   "source": [
    "rvs = multi_peak.rvs(1000000)\n",
    "\n",
    "hist = plt.hist(rvs, bins=200, density=True)\n",
    "plt.plot(xgrid, multi_peak.pdf(xgrid))"
   ]
  },
  {
   "cell_type": "code",
   "execution_count": 7,
   "id": "df4001ea",
   "metadata": {},
   "outputs": [],
   "source": [
    "fitmodel = MultiPeakModel(multi_peak.rvs(10000), distributions, iloc, iscale, iweights)"
   ]
  },
  {
   "cell_type": "code",
   "execution_count": 8,
   "id": "a2231721",
   "metadata": {},
   "outputs": [
    {
     "name": "stdout",
     "output_type": "stream",
     "text": [
      "       message: Optimization terminated successfully.\n",
      "       success: True\n",
      "        status: 0\n",
      "           fun: 21155.947749843\n",
      "             x: [ 9.776e-01  1.994e+00  3.004e+00  4.645e-01  1.495e+00\n",
      "                  2.507e+00  1.715e-01  3.760e-01  5.265e-01]\n",
      "           nit: 465\n",
      "          nfev: 703\n",
      " final_simplex: (array([[ 9.776e-01,  1.994e+00, ...,  3.760e-01,\n",
      "                         5.265e-01],\n",
      "                       [ 9.776e-01,  1.994e+00, ...,  3.760e-01,\n",
      "                         5.264e-01],\n",
      "                       ...,\n",
      "                       [ 9.776e-01,  1.994e+00, ...,  3.760e-01,\n",
      "                         5.265e-01],\n",
      "                       [ 9.776e-01,  1.994e+00, ...,  3.759e-01,\n",
      "                         5.265e-01]]), array([ 2.116e+04,  2.116e+04,  2.116e+04,  2.116e+04,\n",
      "                        2.116e+04,  2.116e+04,  2.116e+04,  2.116e+04,\n",
      "                        2.116e+04,  2.116e+04]))\n",
      "DIFF [-0.02237881 -0.00648696  0.00409895 -0.0355225  -0.00460886  0.00680572\n",
      "  0.00485245  0.04263623  0.02650225]\n",
      "RMS 0.0665797552936497\n",
      "Norm 1.07399093264416\n"
     ]
    }
   ],
   "source": [
    "result1 = fitmodel.fit(method='Nelder-Mead', log=True)\n",
    "print(result1)\n",
    "\n",
    "params = np.concatenate([locations, scales, weights/np.sum(weights)])\n",
    "\n",
    "diff1 = result1.x - params\n",
    "\n",
    "rms1 = np.sqrt(np.sum(diff1**2))\n",
    "\n",
    "print(\"DIFF\", diff1)\n",
    "\n",
    "print(\"RMS\", rms1)\n",
    "\n",
    "print(\"Norm\", np.sum(result1.x[-len(weights):]))\n"
   ]
  },
  {
   "cell_type": "code",
   "execution_count": 9,
   "id": "ecd73d61",
   "metadata": {},
   "outputs": [
    {
     "name": "stdout",
     "output_type": "stream",
     "text": [
      "       message: Optimization terminated successfully.\n",
      "       success: True\n",
      "        status: 0\n",
      "           fun: -0.0\n",
      "             x: [ 1.043e+00  2.229e+00  2.517e+00  5.433e-01  1.729e+00\n",
      "                  2.017e+00  1.802e-01  3.850e-01  4.348e-01]\n",
      "           nit: 12\n",
      "          nfev: 131\n",
      " final_simplex: (array([[ 1.043e+00,  2.229e+00, ...,  3.850e-01,\n",
      "                         4.348e-01],\n",
      "                       [ 1.043e+00,  2.229e+00, ...,  3.850e-01,\n",
      "                         4.348e-01],\n",
      "                       ...,\n",
      "                       [ 1.043e+00,  2.229e+00, ...,  3.850e-01,\n",
      "                         4.348e-01],\n",
      "                       [ 1.043e+00,  2.229e+00, ...,  3.850e-01,\n",
      "                         4.348e-01]]), array([-0.000e+00, -0.000e+00, -0.000e+00, -0.000e+00,\n",
      "                       -0.000e+00, -0.000e+00, -0.000e+00, -0.000e+00,\n",
      "                       -0.000e+00, -0.000e+00]))\n",
      "DIFF [ 0.04329109  0.22895073 -0.48311855  0.04329109  0.22895073 -0.48311855\n",
      "  0.01354907  0.05169055 -0.06523962]\n",
      "RMS 0.7632194182058186\n",
      "Norm 1.0\n"
     ]
    }
   ],
   "source": [
    "result2 = fitmodel.fit(method='Nelder-Mead', log=False)\n",
    "print(result2)\n",
    "\n",
    "\n",
    "diff2 = result2.x - params\n",
    "\n",
    "rms2 = np.sqrt(np.sum(diff2**2))\n",
    "\n",
    "print(\"DIFF\", diff2)\n",
    "\n",
    "print(\"RMS\", rms2)\n",
    "\n",
    "print(\"Norm\", np.sum(result2.x[-len(weights):]))\n"
   ]
  },
  {
   "cell_type": "code",
   "execution_count": 10,
   "id": "eb01b35e",
   "metadata": {},
   "outputs": [
    {
     "name": "stderr",
     "output_type": "stream",
     "text": [
      "/Users/thomasholmrod/opt/anaconda3/envs/emtk/lib/python3.11/site-packages/scipy/optimize/_hessian_update_strategy.py:182: UserWarning: delta_grad == 0.0. Check if the approximated function is linear. If the function is linear better results can be obtained by defining the Hessian as zero instead of using quasi-Newton approximations.\n",
      "  warn('delta_grad == 0.0. Check if the approximated '\n"
     ]
    },
    {
     "name": "stdout",
     "output_type": "stream",
     "text": [
      "           message: `xtol` termination condition is satisfied.\n",
      "           success: True\n",
      "            status: 2\n",
      "               fun: 21155.947749273004\n",
      "                 x: [ 9.776e-01  1.994e+00  3.004e+00  4.645e-01  1.495e+00\n",
      "                      2.507e+00  1.597e-01  3.501e-01  4.902e-01]\n",
      "               nit: 162\n",
      "              nfev: 1680\n",
      "              njev: 168\n",
      "              nhev: 0\n",
      "          cg_niter: 710\n",
      "      cg_stop_cond: 4\n",
      "              grad: [ 2.441e-04  1.225e-04  8.127e-05  2.441e-04  1.633e-04\n",
      "                      9.739e-05  2.441e-04  4.883e-04  2.441e-04]\n",
      "   lagrangian_grad: [ 2.441e-04  1.225e-04  8.127e-05  4.332e-05  1.128e-04\n",
      "                      8.402e-05 -2.295e-06  1.290e-05 -1.060e-05]\n",
      "            constr: [array([ 1.597e-01,  3.501e-01,  4.902e-01,  1.000e+00]), array([ 4.645e-01,  1.495e+00,  2.507e+00])]\n",
      "               jac: [array([[ 0.000e+00,  0.000e+00, ...,  0.000e+00,\n",
      "                             0.000e+00],\n",
      "                           [ 0.000e+00,  0.000e+00, ...,  1.000e+00,\n",
      "                             0.000e+00],\n",
      "                           [ 0.000e+00,  0.000e+00, ...,  0.000e+00,\n",
      "                             1.000e+00],\n",
      "                           [ 0.000e+00,  0.000e+00, ...,  1.000e+00,\n",
      "                             1.000e+00]]), array([[ 0.000e+00,  0.000e+00, ...,  0.000e+00,\n",
      "                             0.000e+00],\n",
      "                           [ 0.000e+00,  0.000e+00, ...,  0.000e+00,\n",
      "                             0.000e+00],\n",
      "                           [ 0.000e+00,  0.000e+00, ...,  0.000e+00,\n",
      "                             0.000e+00]])]\n",
      "       constr_nfev: [0, 0]\n",
      "       constr_njev: [0, 0]\n",
      "       constr_nhev: [0, 0]\n",
      "                 v: [array([ 9.321e-05, -1.357e-04,  8.490e-05, -3.396e-04]), array([-2.008e-04, -5.044e-05, -1.337e-05])]\n",
      "            method: tr_interior_point\n",
      "        optimality: 0.000244140625\n",
      "  constr_violation: 0.0\n",
      "    execution_time: 8.28196096420288\n",
      "         tr_radius: 1.0000000000000005e-09\n",
      "    constr_penalty: 1.0\n",
      " barrier_parameter: 2.048000000000001e-09\n",
      " barrier_tolerance: 2.048000000000001e-09\n",
      "             niter: 162\n",
      "DIFF [-0.02235974 -0.00648711  0.00416246 -0.0355232  -0.00453804  0.00681468\n",
      " -0.00696255  0.01675818 -0.00979563]\n",
      "RMS 0.04809954930440867\n",
      "Norm 1.0\n"
     ]
    }
   ],
   "source": [
    "norm_constraint = NormConstraint(3*npeaks)\n",
    "norm_scales = ScaleConstraints(3*npeaks)\n",
    "\n",
    "result3 = fitmodel.fit(method='trust-constr', log=True, constraints=(norm_constraint(), norm_scales()))\n",
    "print(result3)\n",
    "\n",
    "\n",
    "diff3 = result3.x - params\n",
    "\n",
    "rms3 = np.sqrt(np.sum(diff3**2))\n",
    "\n",
    "print(\"DIFF\", diff3)\n",
    "\n",
    "print(\"RMS\", rms3)\n",
    "\n",
    "print(\"Norm\", np.sum(result3.x[-len(weights):]))\n"
   ]
  },
  {
   "cell_type": "code",
   "execution_count": 11,
   "id": "3342d83b",
   "metadata": {},
   "outputs": [
    {
     "name": "stdout",
     "output_type": "stream",
     "text": [
      "           message: `gtol` termination condition is satisfied.\n",
      "           success: True\n",
      "            status: 1\n",
      "               fun: -0.0\n",
      "                 x: [ 1.043e+00  2.229e+00  2.517e+00  8.025e-01  1.844e+00\n",
      "                      2.119e+00  2.821e-01  3.514e-01  3.665e-01]\n",
      "               nit: 14\n",
      "              nfev: 40\n",
      "              njev: 4\n",
      "              nhev: 0\n",
      "          cg_niter: 4\n",
      "      cg_stop_cond: 0\n",
      "              grad: [ 0.000e+00  0.000e+00  0.000e+00  0.000e+00  0.000e+00\n",
      "                      0.000e+00  0.000e+00  0.000e+00  0.000e+00]\n",
      "   lagrangian_grad: [ 0.000e+00  0.000e+00  0.000e+00 -4.999e-09 -4.291e-09\n",
      "                     -3.952e-09 -4.497e-10  1.493e-10  3.003e-10]\n",
      "            constr: [array([ 2.821e-01,  3.514e-01,  3.665e-01,  1.000e+00]), array([ 8.025e-01,  1.844e+00,  2.119e+00])]\n",
      "               jac: [array([[ 0.000e+00,  0.000e+00, ...,  0.000e+00,\n",
      "                             0.000e+00],\n",
      "                           [ 0.000e+00,  0.000e+00, ...,  1.000e+00,\n",
      "                             0.000e+00],\n",
      "                           [ 0.000e+00,  0.000e+00, ...,  0.000e+00,\n",
      "                             1.000e+00],\n",
      "                           [ 0.000e+00,  0.000e+00, ...,  1.000e+00,\n",
      "                             1.000e+00]]), array([[ 0.000e+00,  0.000e+00, ...,  0.000e+00,\n",
      "                             0.000e+00],\n",
      "                           [ 0.000e+00,  0.000e+00, ...,  0.000e+00,\n",
      "                             0.000e+00],\n",
      "                           [ 0.000e+00,  0.000e+00, ...,  0.000e+00,\n",
      "                             0.000e+00]])]\n",
      "       constr_nfev: [0, 0]\n",
      "       constr_njev: [0, 0]\n",
      "       constr_nhev: [0, 0]\n",
      "                 v: [array([-1.551e-08, -1.491e-08, -1.476e-08,  1.506e-08]), array([-4.999e-09, -4.291e-09, -3.952e-09])]\n",
      "            method: tr_interior_point\n",
      "        optimality: 4.998534242541722e-09\n",
      "  constr_violation: 0.0\n",
      "    execution_time: 0.16178512573242188\n",
      "         tr_radius: 64034366.12632385\n",
      "    constr_penalty: 1.0\n",
      " barrier_parameter: 1.0240000000000006e-08\n",
      " barrier_tolerance: 1.0240000000000006e-08\n",
      "             niter: 14\n",
      "DIFF [ 0.04329109  0.22895073 -0.48311855  0.30250971  0.34406114 -0.38066945\n",
      "  0.11542738  0.01809577 -0.13352315]\n",
      "RMS 0.8209597331532885\n",
      "Norm 1.0\n"
     ]
    },
    {
     "name": "stderr",
     "output_type": "stream",
     "text": [
      "/Users/thomasholmrod/opt/anaconda3/envs/emtk/lib/python3.11/site-packages/scipy/optimize/_hessian_update_strategy.py:182: UserWarning: delta_grad == 0.0. Check if the approximated function is linear. If the function is linear better results can be obtained by defining the Hessian as zero instead of using quasi-Newton approximations.\n",
      "  warn('delta_grad == 0.0. Check if the approximated '\n"
     ]
    }
   ],
   "source": [
    "\n",
    "result4 = fitmodel.fit(method='trust-constr', log=False, constraints=(norm_constraint(), norm_scales()))\n",
    "print(result4)\n",
    "\n",
    "\n",
    "diff4 = result4.x - params\n",
    "\n",
    "rms4 = np.sqrt(np.sum(diff4**2))\n",
    "\n",
    "print(\"DIFF\", diff4)\n",
    "\n",
    "print(\"RMS\", rms4)\n",
    "\n",
    "print(\"Norm\", np.sum(result4.x[-len(weights):]))\n"
   ]
  },
  {
   "cell_type": "code",
   "execution_count": null,
   "id": "79d0a1cc",
   "metadata": {},
   "outputs": [],
   "source": []
  },
  {
   "cell_type": "code",
   "execution_count": null,
   "id": "3825921e",
   "metadata": {},
   "outputs": [],
   "source": []
  },
  {
   "cell_type": "code",
   "execution_count": null,
   "id": "7e1e0785",
   "metadata": {},
   "outputs": [],
   "source": []
  }
 ],
 "metadata": {
  "kernelspec": {
   "display_name": "Python 3 (ipykernel)",
   "language": "python",
   "name": "python3"
  },
  "language_info": {
   "codemirror_mode": {
    "name": "ipython",
    "version": 3
   },
   "file_extension": ".py",
   "mimetype": "text/x-python",
   "name": "python",
   "nbconvert_exporter": "python",
   "pygments_lexer": "ipython3",
   "version": "3.10.10"
  }
 },
 "nbformat": 4,
 "nbformat_minor": 5
}
