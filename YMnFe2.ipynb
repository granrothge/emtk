{
 "cells": [
  {
   "cell_type": "markdown",
   "id": "a9cc11fd-850b-40c8-8fed-134f37fa04f7",
   "metadata": {
    "tags": []
   },
   "source": [
    "# Re-analysing ILL Y(Mn1-xFex)2 Data"
   ]
  },
  {
   "cell_type": "markdown",
   "id": "300ae878-2a53-4636-9396-1bc2599340d0",
   "metadata": {},
   "source": [
    "This data was collected 15th July, 2000 (the logbook says 2002, I have no idea why, 2000 sounds right).  In those days, there was no event mode, so this analysis creates events by randomly smapling the histograms.  This is a good test of the method, because we already know what the traditional analysis shows, and we should be able to reproduce the result."
   ]
  },
  {
   "cell_type": "markdown",
   "id": "d7441e77-962a-46d5-8b33-b28a594b3c13",
   "metadata": {
    "tags": []
   },
   "source": [
    "## Histogram Functions"
   ]
  },
  {
   "cell_type": "markdown",
   "id": "0abab8ab-1720-478a-9fbf-da35b0251e73",
   "metadata": {},
   "source": [
    "The first step is to recreate a few of the basic workflow functions before we re-sample the histograms as events."
   ]
  },
  {
   "cell_type": "code",
   "execution_count": 109,
   "id": "cd597c5f-2aed-48fd-91c1-8eb46588d443",
   "metadata": {
    "tags": []
   },
   "outputs": [],
   "source": [
    "import numpy as np\n",
    "import matplotlib.pyplot as plt\n",
    "import matplotlib.cm as cm\n",
    "\n",
    "\n",
    "def plot_detector_map(data, log_scale=True):\n",
    "    if log_scale:\n",
    "        data = np.log(data)\n",
    "    plt.imshow(data,  interpolation='nearest', cmap=cm.viridis)\n",
    "    \n",
    "def detector_distance_from(num):\n",
    "    # Returns detector distance value from run\n",
    "    path = \"data/ill/d11/ymnfe2/\"\n",
    "    fnum = str(num).zfill(6)\n",
    "    fullname = path + fnum\n",
    "    \n",
    "    datafile = open(fullname, 'r')\n",
    "    lines=datafile.readlines()\n",
    "    datafile.close()\n",
    "            \n",
    "    comment_block_length = 26\n",
    "        \n",
    "    detector_distance_line_index = [37+comment_block_length]\n",
    "    detector_distance_line = [lines[i].strip() for i in detector_distance_line_index]\n",
    "    detector_distance_index = 3\n",
    "    det = np.float_( detector_distance_line[0].split(\"  \")[detector_distance_index] )\n",
    "    \n",
    "    return(det)\n",
    "\n",
    "    \n",
    "def wavelength_from(num):\n",
    "    # Returns wavelength value from run\n",
    "    path = \"data/ill/d11/ymnfe2/\"\n",
    "    fnum = str(num).zfill(6)\n",
    "    fullname = path + fnum\n",
    "    \n",
    "    \n",
    "    datafile = open(fullname, 'r')\n",
    "    lines=datafile.readlines()\n",
    "    datafile.close()\n",
    " \n",
    "    comment_block_length = 26\n",
    "        \n",
    "    wavelength_line_index = [44+comment_block_length]\n",
    "        \n",
    "    wavelength_line = [lines[i].strip() for i in wavelength_line_index]\n",
    "        \n",
    "    wavelength_index = 2\n",
    "    wavelength = np.float_( wavelength_line[0].split(\"  \")[wavelength_index] )\n",
    "    \n",
    "    return wavelength\n",
    "    \n",
    "def temperature_from(num):\n",
    "    path = \"data/ill/d11/ymnfe2/\"\n",
    "    fnum = str(num).zfill(6)\n",
    "    fullname = path + fnum\n",
    "    \n",
    "    \n",
    "    datafile = open(fullname, 'r')\n",
    "    lines=datafile.readlines()\n",
    "    datafile.close()\n",
    "        \n",
    "    comment_block_length = 26\n",
    "    temperature_line_index = [40+comment_block_length]\n",
    "    temperature_line = [lines[i].strip() for i in temperature_line_index]        \n",
    "    temperature_index = 0\n",
    "        \n",
    "    temp = np.float_( temperature_line[0].split(\"  \")[temperature_index] )\n",
    "\n",
    "    return(temp)\n",
    "\n",
    "    \n",
    "def read_run(num, info=False, plot=False):\n",
    "    # Reads an individual run in ancient ILL D11 format\n",
    "    \n",
    "    path = \"data/ill/d11/ymnfe2/\"\n",
    "    fnum = str(num).zfill(6)\n",
    "    fullname = path + fnum\n",
    "    print(fullname)\n",
    "    \n",
    "    \n",
    "    datafile = open(fullname, 'r')\n",
    "    lines=datafile.readlines()\n",
    "    meta_elements = [25, 26]\n",
    "    meta = [lines[i].strip() for i in meta_elements]\n",
    "        \n",
    "    comment_block_length = 26\n",
    "        \n",
    "    detector_line_index = [34+comment_block_length]\n",
    "    detector_distance_line_index = [37+comment_block_length]\n",
    "    temperature_line_index = [40+comment_block_length]\n",
    "    wavelength_line_index = [44+comment_block_length]\n",
    "    collimation_line_index = [45+comment_block_length]\n",
    "        \n",
    "    detector_line = [lines[i].strip() for i in detector_line_index]\n",
    "    detector_distance_line = [lines[i].strip() for i in detector_distance_line_index]\n",
    "    temperature_line = [lines[i].strip() for i in temperature_line_index]\n",
    "    wavelength_line = [lines[i].strip() for i in wavelength_line_index]\n",
    "    collimation_line = [lines[i].strip() for i in collimation_line_index]\n",
    "        \n",
    "    detector_sum_index = 3\n",
    "    monitor_sum_index = 4\n",
    "    detector_distance_index = 3\n",
    "    temperature_index = 0\n",
    "    wavelength_index = 2\n",
    "    collimation_index = 2\n",
    "        \n",
    "        \n",
    "    detector_sum = np.float_( detector_line[0].split(\"  \")[detector_sum_index] )\n",
    "    monitor_sum = np.float_( detector_line[0].split(\"  \")[monitor_sum_index] )\n",
    "    det = np.float_( detector_distance_line[0].split(\"  \")[detector_distance_index] )\n",
    "    temp = np.float_( temperature_line[0].split(\"  \")[temperature_index] )\n",
    "    wavelength = np.float_( wavelength_line[0].split(\"  \")[wavelength_index] )\n",
    "    collimation = np.float_( collimation_line[0].split(\"  \")[collimation_index] )\n",
    "    \n",
    "    datafile.close()\n",
    "\n",
    "        \n",
    "    if info:\n",
    "        print(meta[0])\n",
    "        print(meta[1])\n",
    "        \n",
    "        print(\"Det. sum:\", detector_sum)\n",
    "        print(\"Mon. sum:\", monitor_sum)\n",
    "        print(\"Det. distance:\", det)\n",
    "        print(\"Temp:\", temp)\n",
    "        print(\"Wavelength:\", wavelength)\n",
    "        print(\"Collimation:\", collimation)\n",
    "\n",
    "    \n",
    "    \n",
    "    # Get some info on run\n",
    "    datafile = open(fullname, 'r')\n",
    "    \n",
    "    # Legacy ILL data for D11 has 118 header rows\n",
    "    lines=datafile.readlines()[118:]#skiprows=118)\n",
    "    \n",
    "\n",
    "    \n",
    "    datafile.close()\n",
    "    \n",
    "    \n",
    "    # The data is a 64x64 detector, but the histo\n",
    "    # counts are recorded with 10 columns in sequence\n",
    "    # Probably a fortran thing from back in the day\n",
    "    \n",
    "    data = []\n",
    "    \n",
    "    for line in lines:\n",
    "        data += line.strip().split(\" \")\n",
    "        \n",
    "    # Now we have each histo entry space separated\n",
    "    # but we also have a lot of empty values\n",
    "    # Each space character was stored.  Remove empty entries\n",
    "    sdata = list(filter(None, data))\n",
    "    \n",
    "    # Convert strings to numpy array of floats\n",
    "    ndata = np.float_(sdata)\n",
    "    \n",
    "    # Re-arrange into 64x64 grid of detector pixels\n",
    "    ndata = ndata.reshape(64,64)\n",
    "    \n",
    "    # plot if necessary\n",
    "    if plot:\n",
    "        plot_detector_map(ndata)\n",
    "    \n",
    "    # It looks like this is the correct orientation,\n",
    "    # with gravity downwards, in plt.imshow.  No rotation \n",
    "    # is required.\n",
    "    # This is an array with [y, x] indices starting top-left\n",
    "    \n",
    "    return ndata, detector_sum, monitor_sum\n",
    "\n",
    "\n",
    "def read_sum(run1, run2, plot=True):\n",
    "    # Reads multiple runs and sums up the data\n",
    "    \n",
    "    data, detector_sum, monitor_sum = read_run(run1, plot=False, info=False)\n",
    "    \n",
    "    for run in range(run1+1, run2+1):\n",
    "        new_data, new_dsum, new_msum = read_run(run, plot=False, info=False)\n",
    "        data = data + new_data\n",
    "        detector_sum = detector_sum + new_dsum\n",
    "        monitor_sum = monitor_sum + new_msum\n",
    "        \n",
    "    if plot:\n",
    "        plot_detector_map(data)\n",
    "    \n",
    "    return data, detector_sum, monitor_sum\n",
    "    \n",
    "def event_resample(data, detector_distance, wavelength, beam_centre):\n",
    "    # Takes D11 2d histogram, detector distance, and wavelength, and resamples\n",
    "    # events from the matrix assuming all neutrons are at a central point in the\n",
    "    # pixel\n",
    "    \n",
    "    # This is the alternative method to the radial average (see below) which\n",
    "    # preseves the histogram structure\n",
    "    \n",
    "    # Note that pixels are arranged in (y, x) order, NOT (x, y)\n",
    "    \n",
    "    opp = np.zeros_like(data)\n",
    "    \n",
    "    for iy in range(0, 64):\n",
    "        for ix in range(0, 64):\n",
    "            yval = iy - beam_centre[1]\n",
    "            xval = ix - beam_centre[0]\n",
    "            opp[iy, ix] = np.sqrt(yval**2.0 + xval**2.0)\n",
    "    \n",
    "    tanq = 0.01 * opp / detector_distance\n",
    "    two_theta = np.arctan(tanq)\n",
    "    \n",
    "    theta = 0.5 * two_theta\n",
    "    \n",
    "    qval = 4.0 * np.pi * np.sin(theta) / wavelength\n",
    "    \n",
    "    \n",
    "    return qval\n",
    "    \n",
    "def bleed_mask(mask):\n",
    "    # takes mask data and bleeds it one pixel over\n",
    "\n",
    "    # Bleed in y direction positive\n",
    "    for iy in range(0, 64):\n",
    "        for ix in range(0, 64):\n",
    "            if iy < 63:\n",
    "                if mask[iy+1, ix] < 0.5:\n",
    "                    mask[iy, ix] = 0.0\n",
    "    \n",
    "    # Bleed in y direction negative\n",
    "    for iy in range(63, -1, -1):\n",
    "        for ix in range(0, 64):\n",
    "            if iy > 0:\n",
    "                if mask[iy-1, ix] < 0.5:\n",
    "                    mask[iy, ix] = 0.0\n",
    "                    \n",
    "    # Bleed in x direction positive\n",
    "    for iy in range(0, 64):\n",
    "        for ix in range(0, 64):\n",
    "            if ix < 63:\n",
    "                if mask[iy, ix+1] < 0.5:\n",
    "                    mask[iy, ix] = 0.0\n",
    "                    \n",
    "    # Bleed in x direction negative\n",
    "    for iy in range(0,64):\n",
    "        for ix in range(63, -1, -1):\n",
    "            if ix > 0:\n",
    "                if mask[iy, ix-1] < 0.5:\n",
    "                    mask[iy, ix] = 0.0\n",
    "    \n",
    "    return mask\n",
    "\n",
    "def make_mask(water):\n",
    "    # uses a water run to make a mask.  Manually masks edges of detector\n",
    "    # Finds the beamstop area and the detector boundaries by average\n",
    "    # comparison\n",
    "    \n",
    "    mask = np.ones_like(water)\n",
    "    \n",
    "    left_panel = water[12:50,1:20]\n",
    "    right_panel = water[12:50,1:61]\n",
    "    top_panel = water[1:12,20:50]\n",
    "    bot_panel = water[50:61,20:50]\n",
    "    trimmed = np.concatenate((\\\n",
    "        left_panel.flatten(),\\\n",
    "        right_panel.flatten(),\\\n",
    "        top_panel.flatten(),\\\n",
    "        bot_panel.flatten()))\n",
    "    \n",
    "    mask_mean = np.mean(trimmed)\n",
    "    mask_stddev = np.std(trimmed)\n",
    "        \n",
    "    threshold = mask_mean - mask_stddev\n",
    "    \n",
    "\n",
    "    \n",
    "    \n",
    "    fail = water < threshold\n",
    "    \n",
    "    mask[fail] = 0.0    \n",
    "\n",
    "    mask = bleed_mask(mask)\n",
    "\n",
    "    # manual edges\n",
    "    mask[:,0]=0.0\n",
    "    mask[0,:]=0.0\n",
    "    mask[:,63] = 0.0\n",
    "    mask[63,:] = 0.0\n",
    "    \n",
    "    plot_detector_map(mask, log_scale=False)\n",
    "    \n",
    "    return mask\n",
    "    \n",
    "\n",
    "def radial_average(data, detector_distance, wavelength, beam_centre, plot=True):\n",
    "    # Radially averages the data and converts to Q\n",
    "    \n",
    "    opp = np.zeros_like(data)\n",
    "    \n",
    "    for iy in range(0, 64):\n",
    "        for ix in range(0, 64):\n",
    "            yval = iy - beam_centre[1]\n",
    "            xval = ix - beam_centre[0]\n",
    "            opp[iy, ix] = np.sqrt(yval**2.0 + xval**2.0)\n",
    "    \n",
    "    tanq = 0.01 * opp / detector_distance\n",
    "    two_theta = np.arctan(tanq)\n",
    "    \n",
    "    theta = 0.5 * two_theta\n",
    "    \n",
    "    qval = 4.0 * np.pi * np.sin(theta) / wavelength\n",
    "    qmin = np.amin(qval)\n",
    "    qmax = np.amax(qval)\n",
    "    \n",
    "    bins = np.linspace(qmin, qmax, 32)\n",
    "    \n",
    "    # The normalisation factor for each bin is the radial average\n",
    "    # of the q values (taht just counts how many pixels fall in\n",
    "    # each bin)\n",
    "    \n",
    "    norm_hst = np.histogram(qval, bins=bins)\n",
    "    \n",
    "    hst = norm_hst\n",
    "    \n",
    "    if plot:\n",
    "        xvals = hst[1]\n",
    "        yplot = hst[0]\n",
    "        \n",
    "        dx = xvals[1]-xvals[0]\n",
    "        xvals = xvals + dx\n",
    "        xplot = xvals[:-1]\n",
    "    \n",
    "        plt.plot(xplot, yplot)\n",
    "    \n",
    "    return hst\n",
    "    \n",
    "    \n",
    "    \n",
    "    \n",
    "    \n",
    "    \n",
    "def find_centre(data):\n",
    "    # Uses a TRANSMISSION RUN to find the beam centre\n",
    "    # Weighted mean of pixel coordinate map\n",
    "    \n",
    "    # Arrays are indexed [y, x] with origin in top left\n",
    "    # as plotted in matplotlib imshow\n",
    "    \n",
    "    yint = np.sum(data, axis=1) \n",
    "    xint = np.sum(data, axis=0)\n",
    "    \n",
    "    yint_sum = np.sum(yint)\n",
    "    xint_sum = np.sum(xint)\n",
    "        \n",
    "    yint = yint / yint_sum\n",
    "    xint = xint / xint_sum\n",
    "    \n",
    "    pixval = np.arange(0, 64)\n",
    "    \n",
    "    weightedx = pixval * yint\n",
    "    weightedy = pixval * xint\n",
    "    \n",
    "    xcentre = np.sum(weightedx)\n",
    "    ycentre = np.sum(weightedy)\n",
    "    \n",
    "    return np.array([xcentre, ycentre])\n",
    "        \n",
    "    \n",
    "    "
   ]
  },
  {
   "cell_type": "code",
   "execution_count": 96,
   "id": "e86070d6-66ab-4570-a0cc-79bc91134529",
   "metadata": {
    "tags": []
   },
   "outputs": [
    {
     "name": "stdout",
     "output_type": "stream",
     "text": [
      "data/ill/d11/ymnfe2/006010\n",
      "data/ill/d11/ymnfe2/006011\n",
      "data/ill/d11/ymnfe2/006012\n",
      "data/ill/d11/ymnfe2/006013\n",
      "data/ill/d11/ymnfe2/006014\n",
      "data/ill/d11/ymnfe2/006015\n",
      "data/ill/d11/ymnfe2/006016\n",
      "data/ill/d11/ymnfe2/006017\n"
     ]
    },
    {
     "name": "stderr",
     "output_type": "stream",
     "text": [
      "/var/folders/th/9shc9qg10f7brtgj6hbfmnpw0000gn/T/ipykernel_1392/269385408.py:8: RuntimeWarning: divide by zero encountered in log\n",
      "  data = np.log(data)\n"
     ]
    },
    {
     "data": {
      "image/png": "[encoded data removed]",
      "text/plain": [
       "<Figure size 640x480 with 1 Axes>"
      ]
     },
     "metadata": {},
     "output_type": "display_data"
    }
   ],
   "source": [
    "water, mon, det = read_sum(6010, 6017)"
   ]
  },
  {
   "cell_type": "code",
   "execution_count": 111,
   "id": "def78c27-4711-46ac-9316-00322fde50ff",
   "metadata": {
    "tags": []
   },
   "outputs": [
    {
     "data": {
      "image/png": "[encoded data removed]",
      "text/plain": [
       "<Figure size 640x480 with 1 Axes>"
      ]
     },
     "metadata": {},
     "output_type": "display_data"
    }
   ],
   "source": [
    "detector_mask = make_mask(water)"
   ]
  },
  {
   "cell_type": "code",
   "execution_count": 112,
   "id": "2eadb276-afc8-41fb-a462-967de8c163c6",
   "metadata": {
    "tags": []
   },
   "outputs": [
    {
     "name": "stdout",
     "output_type": "stream",
     "text": [
      "data/ill/d11/ymnfe2/006314\n",
      "Cywinski  ymnfe2                                 5-32-60877 YMnFe0.6 trans\n",
      "18-JUN-00 22:18:36  18-JUN-00 22:21:43\n",
      "Det. sum: 12405.0\n",
      "Mon. sum: 599999.0\n",
      "Det. distance: 9.9989996\n",
      "Temp: 101.439003\n",
      "Wavelength: 9.99982071\n",
      "Collimation: 10.5\n",
      "12405.0\n",
      "[30.92261185 31.36130593]\n"
     ]
    }
   ],
   "source": [
    "ctr_data, ss, mon = read_run(6314, info=True)\n",
    "print(ss)\n",
    "beam_centre = find_centre(ctr_data)\n",
    "print(beam_centre)"
   ]
  },
  {
   "cell_type": "code",
   "execution_count": 41,
   "id": "324a9223-66d0-404a-86db-370e205bda86",
   "metadata": {
    "tags": []
   },
   "outputs": [
    {
     "data": {
      "image/png": "[encoded data removed]",
      "text/plain": [
       "<Figure size 640x480 with 1 Axes>"
      ]
     },
     "metadata": {},
     "output_type": "display_data"
    }
   ],
   "source": [
    "plot_detector_map(ctr_data)"
   ]
  },
  {
   "cell_type": "code",
   "execution_count": 114,
   "id": "b909ae03-8214-494e-a474-847004bc65f2",
   "metadata": {
    "tags": []
   },
   "outputs": [
    {
     "data": {
      "image/png": "[encoded data removed]",
      "text/plain": [
       "<Figure size 640x480 with 1 Axes>"
      ]
     },
     "metadata": {},
     "output_type": "display_data"
    }
   ],
   "source": [
    "spec = radial_average(water, detector_distance_from(6010), wavelength_from(6010), beam_centre)"
   ]
  },
  {
   "cell_type": "code",
   "execution_count": 39,
   "id": "5982687c-fec6-4e42-bba7-5a949a35e057",
   "metadata": {
    "tags": []
   },
   "outputs": [
    {
     "name": "stdout",
     "output_type": "stream",
     "text": [
      "9.9989996\n"
     ]
    }
   ],
   "source": [
    "print(detector_distance_from(6314))"
   ]
  },
  {
   "cell_type": "code",
   "execution_count": 47,
   "id": "71f920b2-3cec-42f6-b08d-9f08d4563b83",
   "metadata": {
    "tags": []
   },
   "outputs": [
    {
     "name": "stdout",
     "output_type": "stream",
     "text": [
      "data/ill/d11/ymnfe2/006316\n",
      "Cywinski  ymnfe2                                 5-32-60877 YMnFe0.6 sans\n",
      "18-JUN-00 22:35:30  18-JUN-00 22:51:32\n",
      "Det. sum: 3705796.0\n",
      "Mon. sum: 3000000.0\n",
      "Det. distance: 9.9989996\n",
      "Temp: 100.061996\n",
      "Wavelength: 9.99982071\n",
      "Collimation: 10.5\n"
     ]
    },
    {
     "data": {
      "image/png": "[encoded data removed]",
      "text/plain": [
       "<Figure size 640x480 with 1 Axes>"
      ]
     },
     "metadata": {},
     "output_type": "display_data"
    }
   ],
   "source": [
    "test_spec = read_run(6316, info=True, plot=True)\n",
    "smp = event_resample(ctr_data, detector_distance_from(6316), wavelength_from(6316), ctr)"
   ]
  },
  {
   "cell_type": "code",
   "execution_count": 48,
   "id": "16c4c7cc-6dbc-471a-943d-49e9d6655471",
   "metadata": {
    "tags": []
   },
   "outputs": [
    {
     "name": "stdout",
     "output_type": "stream",
     "text": [
      "[[0.02765586 0.02721927 0.02679023 ... 0.02728636 0.02772408 0.02816894]\n",
      " [0.02721292 0.02676907 0.02633266 ... 0.02683729 0.02728226 0.02773425]\n",
      " [0.02677733 0.02632609 0.02588217 ... 0.02639547 0.0268478  0.02730702]\n",
      " ...\n",
      " [0.0268974  0.02644823 0.0260064  ... 0.02651728 0.02696755 0.02742476]\n",
      " [0.02733507 0.02689324 0.02645889 ... 0.02696115 0.02740409 0.02785409]\n",
      " [0.02777997 0.02734538 0.02691836 ... 0.02741216 0.02784789 0.02829079]]\n",
      "0.00023219162648684203\n",
      "0.028290791877537504\n"
     ]
    }
   ],
   "source": [
    "print(smp)\n",
    "print(np.amin(smp))\n",
    "print(np.amax(smp))"
   ]
  },
  {
   "cell_type": "code",
   "execution_count": null,
   "id": "846b4d42-ee84-4a83-a9bf-8bd37890eb90",
   "metadata": {},
   "outputs": [],
   "source": []
  }
 ],
 "metadata": {
  "kernelspec": {
   "display_name": "Python 3 (ipykernel)",
   "language": "python",
   "name": "python3"
  },
  "language_info": {
   "codemirror_mode": {
    "name": "ipython",
    "version": 3
   },
   "file_extension": ".py",
   "mimetype": "text/x-python",
   "name": "python",
   "nbconvert_exporter": "python",
   "pygments_lexer": "ipython3",
   "version": "3.10.11"
  }
 },
 "nbformat": 4,
 "nbformat_minor": 5
}
