{
 "cells": [
  {
   "cell_type": "markdown",
   "id": "a9cc11fd-850b-40c8-8fed-134f37fa04f7",
   "metadata": {
    "tags": []
   },
   "source": [
    "# Re-analysing ILL Y(Mn1-xFex)2 Data"
   ]
  },
  {
   "cell_type": "markdown",
   "id": "300ae878-2a53-4636-9396-1bc2599340d0",
   "metadata": {},
   "source": [
    "This data was collected 15th July, 2000 (the logbook says 2002, I have no idea why, 2000 sounds right).  In those days, there was no event mode, so this analysis creates events by randomly smapling the histograms.  This is a good test of the method, because we already know what the traditional analysis shows, and we should be able to reproduce the result."
   ]
  },
  {
   "cell_type": "markdown",
   "id": "d7441e77-962a-46d5-8b33-b28a594b3c13",
   "metadata": {
    "tags": []
   },
   "source": [
    "## Histogram Functions"
   ]
  },
  {
   "cell_type": "markdown",
   "id": "0abab8ab-1720-478a-9fbf-da35b0251e73",
   "metadata": {},
   "source": [
    "The first step is to recreate a few of the basic workflow functions before we re-sample the histograms as events."
   ]
  },
  {
   "cell_type": "code",
   "execution_count": 63,
   "id": "cd597c5f-2aed-48fd-91c1-8eb46588d443",
   "metadata": {
    "tags": []
   },
   "outputs": [],
   "source": [
    "import numpy as np\n",
    "import matplotlib.pyplot as plt\n",
    "import matplotlib.cm as cm\n",
    "\n",
    "\n",
    "def plot_detector_map(data, log_scale=True):\n",
    "    if log_scale:\n",
    "        data = np.log(data)\n",
    "    plt.imshow(data,  interpolation='nearest', cmap=cm.viridis)\n",
    "    \n",
    "def detector_distance_from(num):\n",
    "    # Returns detector distance value from run\n",
    "    path = \"data/ill/d11/ymnfe2/\"\n",
    "    fnum = str(num).zfill(6)\n",
    "    fullname = path + fnum\n",
    "    \n",
    "    datafile = open(fullname, 'r')\n",
    "    lines=datafile.readlines()\n",
    "    datafile.close()\n",
    "            \n",
    "    comment_block_length = 26\n",
    "        \n",
    "    detector_distance_line_index = [37+comment_block_length]\n",
    "    detector_distance_line = [lines[i].strip() for i in detector_distance_line_index]\n",
    "    detector_distance_index = 3\n",
    "    det = np.float_( detector_distance_line[0].split(\"  \")[detector_distance_index] )\n",
    "    \n",
    "    return(det)\n",
    "\n",
    "    \n",
    "def wavelength_from(num):\n",
    "    # Returns wavelength value from run\n",
    "    path = \"data/ill/d11/ymnfe2/\"\n",
    "    fnum = str(num).zfill(6)\n",
    "    fullname = path + fnum\n",
    "    \n",
    "    \n",
    "    datafile = open(fullname, 'r')\n",
    "    lines=datafile.readlines()\n",
    "    datafile.close()\n",
    " \n",
    "    comment_block_length = 26\n",
    "        \n",
    "    wavelength_line_index = [44+comment_block_length]\n",
    "        \n",
    "    wavelength_line = [lines[i].strip() for i in wavelength_line_index]\n",
    "        \n",
    "    wavelength_index = 2\n",
    "    wavelength = np.float_( wavelength_line[0].split(\"  \")[wavelength_index] )\n",
    "    \n",
    "    return wavelength\n",
    "    \n",
    "def temperature_from(num):\n",
    "    path = \"data/ill/d11/ymnfe2/\"\n",
    "    fnum = str(num).zfill(6)\n",
    "    fullname = path + fnum\n",
    "    \n",
    "    \n",
    "    datafile = open(fullname, 'r')\n",
    "    lines=datafile.readlines()\n",
    "    datafile.close()\n",
    "        \n",
    "    comment_block_length = 26\n",
    "    temperature_line_index = [40+comment_block_length]\n",
    "    temperature_line = [lines[i].strip() for i in temperature_line_index]        \n",
    "    temperature_index = 0\n",
    "        \n",
    "    temp = np.float_( temperature_line[0].split(\"  \")[temperature_index] )\n",
    "\n",
    "    return(temp)\n",
    "\n",
    "    \n",
    "def read_run(num, info=False, plot=False):\n",
    "    # Reads an individual run in ancient ILL D11 format\n",
    "    \n",
    "    path = \"data/ill/d11/ymnfe2/\"\n",
    "    fnum = str(num).zfill(6)\n",
    "    fullname = path + fnum\n",
    "    print(fullname)\n",
    "    \n",
    "    \n",
    "    datafile = open(fullname, 'r')\n",
    "    lines=datafile.readlines()\n",
    "    meta_elements = [25, 26]\n",
    "    meta = [lines[i].strip() for i in meta_elements]\n",
    "        \n",
    "    comment_block_length = 26\n",
    "        \n",
    "    detector_line_index = [34+comment_block_length]\n",
    "    detector_distance_line_index = [37+comment_block_length]\n",
    "    temperature_line_index = [40+comment_block_length]\n",
    "    wavelength_line_index = [44+comment_block_length]\n",
    "    collimation_line_index = [45+comment_block_length]\n",
    "        \n",
    "    detector_line = [lines[i].strip() for i in detector_line_index]\n",
    "    detector_distance_line = [lines[i].strip() for i in detector_distance_line_index]\n",
    "    temperature_line = [lines[i].strip() for i in temperature_line_index]\n",
    "    wavelength_line = [lines[i].strip() for i in wavelength_line_index]\n",
    "    collimation_line = [lines[i].strip() for i in collimation_line_index]\n",
    "        \n",
    "    detector_sum_index = 3\n",
    "    monitor_sum_index = 4\n",
    "    detector_distance_index = 3\n",
    "    temperature_index = 0\n",
    "    wavelength_index = 2\n",
    "    collimation_index = 2\n",
    "        \n",
    "        \n",
    "    detector_sum = np.float_( detector_line[0].split(\"  \")[detector_sum_index] )\n",
    "    monitor_sum = np.float_( detector_line[0].split(\"  \")[monitor_sum_index] )\n",
    "    det = np.float_( detector_distance_line[0].split(\"  \")[detector_distance_index] )\n",
    "    temp = np.float_( temperature_line[0].split(\"  \")[temperature_index] )\n",
    "    wavelength = np.float_( wavelength_line[0].split(\"  \")[wavelength_index] )\n",
    "    collimation = np.float_( collimation_line[0].split(\"  \")[collimation_index] )\n",
    "    \n",
    "    datafile.close()\n",
    "\n",
    "        \n",
    "    if info:\n",
    "        print(meta[0])\n",
    "        print(meta[1])\n",
    "        \n",
    "        print(\"Det. sum:\", detector_sum)\n",
    "        print(\"Mon. sum:\", monitor_sum)\n",
    "        print(\"Det. distance:\", det)\n",
    "        print(\"Temp:\", temp)\n",
    "        print(\"Wavelength:\", wavelength)\n",
    "        print(\"Collimation:\", collimation)\n",
    "\n",
    "    \n",
    "    \n",
    "    # Get some info on run\n",
    "    datafile = open(fullname, 'r')\n",
    "    \n",
    "    # Legacy ILL data for D11 has 118 header rows\n",
    "    lines=datafile.readlines()[118:]#skiprows=118)\n",
    "    \n",
    "\n",
    "    \n",
    "    datafile.close()\n",
    "    \n",
    "    \n",
    "    # The data is a 64x64 detector, but the histo\n",
    "    # counts are recorded with 10 columns in sequence\n",
    "    # Probably a fortran thing from back in the day\n",
    "    \n",
    "    data = []\n",
    "    \n",
    "    for line in lines:\n",
    "        data += line.strip().split(\" \")\n",
    "        \n",
    "    # Now we have each histo entry space separated\n",
    "    # but we also have a lot of empty values\n",
    "    # Each space character was stored.  Remove empty entries\n",
    "    sdata = list(filter(None, data))\n",
    "    \n",
    "    # Convert strings to numpy array of floats\n",
    "    ndata = np.float_(sdata)\n",
    "    \n",
    "    # Re-arrange into 64x64 grid of detector pixels\n",
    "    ndata = ndata.reshape(64,64)\n",
    "    \n",
    "    # plot if necessary\n",
    "    if plot:\n",
    "        plot_detector_map(ndata)\n",
    "    \n",
    "    # It looks like this is the correct orientation,\n",
    "    # with gravity downwards, in plt.imshow.  No rotation \n",
    "    # is required.\n",
    "    # This is an array with [y, x] indices starting top-left\n",
    "    \n",
    "    return ndata, detector_sum, monitor_sum\n",
    "\n",
    "\n",
    "def read_sum(run1, run2, plot=True):\n",
    "    # Reads multiple runs and sums up the data\n",
    "    \n",
    "    data, detector_sum, monitor_sum = read_run(run1, plot=False, info=False)\n",
    "    \n",
    "    for run in range(run1+1, run2+1):\n",
    "        new_data, new_dsum, new_msum = read_run(run, plot=False, info=False)\n",
    "        data = data + new_data\n",
    "        detector_sum = detector_sum + new_dsum\n",
    "        monitor_sum = monitor_sum + new_msum\n",
    "        \n",
    "    if plot:\n",
    "        plot_detector_map(data)\n",
    "    \n",
    "    return data, detector_sum, monitor_sum\n",
    "    \n",
    "def event_resample(data, detector_distance, wavelength, beam_centre):\n",
    "    # Takes D11 2d histogram, detector distance, and wavelength, and resamples\n",
    "    # events from the matrix assuming all neutrons are at a central point in the\n",
    "    # pixel\n",
    "    \n",
    "    # This is the alternative method to the radial average (see below) which\n",
    "    # preseves the histogram structure\n",
    "    \n",
    "    # Note that pixels are arranged in (y, x) order, NOT (x, y)\n",
    "    \n",
    "    opp = np.zeros_like(data)\n",
    "    \n",
    "    for iy in range(0, 64):\n",
    "        for ix in range(0, 64):\n",
    "            yval = iy - beam_centre[1]\n",
    "            xval = ix - beam_centre[0]\n",
    "            opp[iy, ix] = np.sqrt(yval**2.0 + xval**2.0)\n",
    "    \n",
    "    tanq = 0.01 * opp / detector_distance\n",
    "    two_theta = np.arctan(tanq)\n",
    "    \n",
    "    theta = 0.5 * two_theta\n",
    "    \n",
    "    qval = 4.0 * np.pi * np.sin(theta) / wavelength\n",
    "    \n",
    "    \n",
    "    return qval\n",
    "    \n",
    "def bleed_mask(mask):\n",
    "    # takes mask data and bleeds it one pixel over\n",
    "\n",
    "    # Bleed in y direction positive\n",
    "    for iy in range(0, 64):\n",
    "        for ix in range(0, 64):\n",
    "            if iy < 63:\n",
    "                if mask[iy+1, ix] < 0.5:\n",
    "                    mask[iy, ix] = 0.0\n",
    "    \n",
    "    # Bleed in y direction negative\n",
    "    for iy in range(63, -1, -1):\n",
    "        for ix in range(0, 64):\n",
    "            if iy > 0:\n",
    "                if mask[iy-1, ix] < 0.5:\n",
    "                    mask[iy, ix] = 0.0\n",
    "                    \n",
    "    # Bleed in x direction positive\n",
    "    for iy in range(0, 64):\n",
    "        for ix in range(0, 64):\n",
    "            if ix < 63:\n",
    "                if mask[iy, ix+1] < 0.5:\n",
    "                    mask[iy, ix] = 0.0\n",
    "                    \n",
    "    # Bleed in x direction negative\n",
    "    for iy in range(0,64):\n",
    "        for ix in range(63, -1, -1):\n",
    "            if ix > 0:\n",
    "                if mask[iy, ix-1] < 0.5:\n",
    "                    mask[iy, ix] = 0.0\n",
    "    \n",
    "    return mask\n",
    "\n",
    "def make_mask(water):\n",
    "    # uses a water run to make a mask.  Manually masks edges of detector\n",
    "    # Finds the beamstop area and the detector boundaries by average\n",
    "    # comparison\n",
    "    \n",
    "    mask = np.ones_like(water)\n",
    "    \n",
    "    left_panel = water[12:50,1:20]\n",
    "    right_panel = water[12:50,1:61]\n",
    "    top_panel = water[1:12,20:50]\n",
    "    bot_panel = water[50:61,20:50]\n",
    "    trimmed = np.concatenate((\\\n",
    "        left_panel.flatten(),\\\n",
    "        right_panel.flatten(),\\\n",
    "        top_panel.flatten(),\\\n",
    "        bot_panel.flatten()))\n",
    "    \n",
    "    mask_mean = np.mean(trimmed)\n",
    "    mask_stddev = np.std(trimmed)\n",
    "        \n",
    "    threshold = mask_mean - mask_stddev\n",
    "    \n",
    "\n",
    "    \n",
    "    \n",
    "    fail = water < threshold\n",
    "    \n",
    "    mask[fail] = 0.0    \n",
    "\n",
    "    mask = bleed_mask(mask)\n",
    "\n",
    "    # manual edges\n",
    "    mask[:,0]=0.0\n",
    "    mask[0,:]=0.0\n",
    "    mask[:,63] = 0.0\n",
    "    mask[63,:] = 0.0\n",
    "    \n",
    "    plot_detector_map(mask, log_scale=False)\n",
    "    \n",
    "    return mask\n",
    "    \n",
    "\n",
    "def radial_average(data, detector_distance, wavelength, beam_centre, plot=True, xmin=None, xmax=None, ymin=None, ymax=None):\n",
    "    # Radially averages the data and converts to Q\n",
    "    \n",
    "    opp = np.zeros_like(data)\n",
    "    \n",
    "    for iy in range(0, 64):\n",
    "        for ix in range(0, 64):\n",
    "            yval = iy - beam_centre[1]\n",
    "            xval = ix - beam_centre[0]\n",
    "            opp[iy, ix] = np.sqrt(yval**2.0 + xval**2.0)\n",
    "    \n",
    "    tanq = 0.01 * opp / detector_distance\n",
    "    two_theta = np.arctan(tanq)\n",
    "    \n",
    "    theta = 0.5 * two_theta\n",
    "    \n",
    "    qval = 4.0 * np.pi * np.sin(theta) / wavelength\n",
    "    qmin = np.amin(qval)\n",
    "    qmax = np.amax(qval)\n",
    "    \n",
    "    bins = np.linspace(qmin, qmax, 64)\n",
    "    \n",
    "    # The normalisation factor for each bin is the radial average\n",
    "    # of the q values (that just counts how many pixels fall in\n",
    "    # each bin)\n",
    "    \n",
    "    norm_hst = np.histogram(qval, bins=bins)\n",
    "    \n",
    "    error_weight = np.multiply(data, data)\n",
    "    \n",
    "    hst = np.histogram(qval, bins=bins, weights = data)\n",
    "    \n",
    "    err = np.histogram(qval, bins=bins, weights = error_weight)\n",
    "    \n",
    "    err = np.sqrt(err[0])\n",
    "    \n",
    "    \n",
    "    # Shift the x values to bin-centre\n",
    "    xvals = hst[1]\n",
    "    dx = xvals[1]-xvals[0]\n",
    "    xvals = xvals + dx\n",
    "    xplot = xvals[:-1]\n",
    "    \n",
    "    yplot = hst[0] / norm_hst[0]\n",
    "    err = err / norm_hst[0]\n",
    "    \n",
    "    \n",
    "    \n",
    "    if plot:    \n",
    "        #plt.plot(xplot, yplot, ls='None', marker='o')\n",
    "        plt.errorbar(xplot, yplot, yerr=err, ls='None', marker='o')\n",
    "        plt.yscale('log')\n",
    "        plt.xscale('log')\n",
    "        if xmin != None and xmax != None:\n",
    "            plt.xlim([xmin, xmax])\n",
    "        if ymin != None and ymax != None:\n",
    "            plt.ylim([ymin, ymax])\n",
    "            \n",
    "    # Trim the data to specified ranges\n",
    "    if xmin != None and xmax != None:\n",
    "        trim_mask_min = xplot > xmin\n",
    "        trim_mask_max = xplot < xmax\n",
    "        trim_mask = trim_mask_min & trim_mask_max\n",
    "        \n",
    "        \n",
    "        \n",
    "        xplot = xplot[trim_mask]\n",
    "        yplot = yplot[trim_mask]\n",
    "        err = err[trim_mask]\n",
    "        \n",
    "    \n",
    "    return xplot, yplot, err\n",
    "    \n",
    "    \n",
    "    \n",
    "    \n",
    "    \n",
    "    \n",
    "def find_centre(data):\n",
    "    # Uses a TRANSMISSION RUN to find the beam centre\n",
    "    # Weighted mean of pixel coordinate map\n",
    "    \n",
    "    # Arrays are indexed [y, x] with origin in top left\n",
    "    # as plotted in matplotlib imshow\n",
    "    \n",
    "    yint = np.sum(data, axis=1) \n",
    "    xint = np.sum(data, axis=0)\n",
    "    \n",
    "    yint_sum = np.sum(yint)\n",
    "    xint_sum = np.sum(xint)\n",
    "        \n",
    "    yint = yint / yint_sum\n",
    "    xint = xint / xint_sum\n",
    "    \n",
    "    pixval = np.arange(0, 64)\n",
    "    \n",
    "    weightedx = pixval * yint\n",
    "    weightedy = pixval * xint\n",
    "    \n",
    "    xcentre = np.sum(weightedx)\n",
    "    ycentre = np.sum(weightedy)\n",
    "    \n",
    "    return np.array([xcentre, ycentre])\n",
    "        \n",
    "    \n",
    "    "
   ]
  },
  {
   "cell_type": "code",
   "execution_count": 3,
   "id": "e86070d6-66ab-4570-a0cc-79bc91134529",
   "metadata": {
    "tags": []
   },
   "outputs": [
    {
     "name": "stdout",
     "output_type": "stream",
     "text": [
      "data/ill/d11/ymnfe2/006010\n",
      "data/ill/d11/ymnfe2/006011\n",
      "data/ill/d11/ymnfe2/006012\n",
      "data/ill/d11/ymnfe2/006013\n",
      "data/ill/d11/ymnfe2/006014\n",
      "data/ill/d11/ymnfe2/006015\n",
      "data/ill/d11/ymnfe2/006016\n",
      "data/ill/d11/ymnfe2/006017\n"
     ]
    },
    {
     "name": "stderr",
     "output_type": "stream",
     "text": [
      "/var/folders/th/9shc9qg10f7brtgj6hbfmnpw0000gn/T/ipykernel_1122/4261025618.py:8: RuntimeWarning: divide by zero encountered in log\n",
      "  data = np.log(data)\n"
     ]
    },
    {
     "data": {
      "image/png": "[encoded data removed]",
      "text/plain": [
       "<Figure size 640x480 with 1 Axes>"
      ]
     },
     "metadata": {},
     "output_type": "display_data"
    }
   ],
   "source": [
    "water, mon, det = read_sum(6010, 6017)"
   ]
  },
  {
   "cell_type": "code",
   "execution_count": 4,
   "id": "def78c27-4711-46ac-9316-00322fde50ff",
   "metadata": {
    "tags": []
   },
   "outputs": [
    {
     "data": {
      "image/png": "[encoded data removed]",
      "text/plain": [
       "<Figure size 640x480 with 1 Axes>"
      ]
     },
     "metadata": {},
     "output_type": "display_data"
    }
   ],
   "source": [
    "detector_mask = make_mask(water)"
   ]
  },
  {
   "cell_type": "code",
   "execution_count": 5,
   "id": "2eadb276-afc8-41fb-a462-967de8c163c6",
   "metadata": {
    "tags": []
   },
   "outputs": [
    {
     "name": "stdout",
     "output_type": "stream",
     "text": [
      "data/ill/d11/ymnfe2/006314\n",
      "Cywinski  ymnfe2                                 5-32-60877 YMnFe0.6 trans\n",
      "18-JUN-00 22:18:36  18-JUN-00 22:21:43\n",
      "Det. sum: 12405.0\n",
      "Mon. sum: 599999.0\n",
      "Det. distance: 9.9989996\n",
      "Temp: 101.439003\n",
      "Wavelength: 9.99982071\n",
      "Collimation: 10.5\n",
      "12405.0\n",
      "[30.92261185 31.36130593]\n"
     ]
    }
   ],
   "source": [
    "ctr_data, ss, mon = read_run(6314, info=True)\n",
    "print(ss)\n",
    "beam_centre = find_centre(ctr_data)\n",
    "print(beam_centre)"
   ]
  },
  {
   "cell_type": "code",
   "execution_count": 6,
   "id": "324a9223-66d0-404a-86db-370e205bda86",
   "metadata": {
    "tags": []
   },
   "outputs": [
    {
     "name": "stderr",
     "output_type": "stream",
     "text": [
      "/var/folders/th/9shc9qg10f7brtgj6hbfmnpw0000gn/T/ipykernel_1122/4261025618.py:8: RuntimeWarning: divide by zero encountered in log\n",
      "  data = np.log(data)\n"
     ]
    },
    {
     "data": {
      "image/png": "[encoded data removed]",
      "text/plain": [
       "<Figure size 640x480 with 1 Axes>"
      ]
     },
     "metadata": {},
     "output_type": "display_data"
    }
   ],
   "source": [
    "plot_detector_map(ctr_data)"
   ]
  },
  {
   "cell_type": "code",
   "execution_count": 64,
   "id": "b909ae03-8214-494e-a474-847004bc65f2",
   "metadata": {
    "tags": []
   },
   "outputs": [
    {
     "name": "stdout",
     "output_type": "stream",
     "text": [
      "data/ill/d11/ymnfe2/006316\n"
     ]
    },
    {
     "data": {
      "image/png": "[encoded data removed]",
      "text/plain": [
       "<Figure size 640x480 with 1 Axes>"
      ]
     },
     "metadata": {},
     "output_type": "display_data"
    }
   ],
   "source": [
    "realdat, mon, det = read_run(6316)\n",
    "spec = radial_average(realdat, detector_distance_from(6010), wavelength_from(6010), beam_centre, xmin=0.0048, xmax=0.02, ymin=1.0, ymax=10000.0)"
   ]
  },
  {
   "cell_type": "code",
   "execution_count": 136,
   "id": "846b4d42-ee84-4a83-a9bf-8bd37890eb90",
   "metadata": {},
   "outputs": [
    {
     "name": "stdout",
     "output_type": "stream",
     "text": [
      "[[Model]]\n",
      "    Model(emulsion_ls_func)\n",
      "[[Fit Statistics]]\n",
      "    # fitting method   = leastsq\n",
      "    # function evals   = 85\n",
      "    # data points      = 34\n",
      "    # variables        = 5\n",
      "    chi-square         = 3.77511743\n",
      "    reduced chi-square = 0.13017646\n",
      "    Akaike info crit   = -64.7295872\n",
      "    Bayesian info crit = -57.0977846\n",
      "    R-squared          = 0.99999996\n",
      "[[Variables]]\n",
      "    aa:  51.6935812 +/- 6.3073e+10 (122013404892.81%) (init = 0.0023)\n",
      "    kk:  6.82187245 +/- 2.0879e+09 (30606274062.73%) (init = 0.02)\n",
      "    bb:  3.2532e-08 +/- 7.1995e-08 (221.31%) (init = 0.0002)\n",
      "    cc:  1.5204e-10 +/- 5.4504e-12 (3.58%) (init = 1.5e-07)\n",
      "    bg:  2.82192877 +/- 6.7342e+08 (23863901786.15%) (init = 1)\n",
      "[[Correlations]] (unreported correlations are < 0.100)\n",
      "    C(aa, bg) = -1.0000\n",
      "    C(aa, kk) = +1.0000\n",
      "    C(kk, bg) = -1.0000\n",
      "    C(bb, cc) = -0.9290\n"
     ]
    },
    {
     "data": {
      "text/plain": [
       "<matplotlib.legend.Legend at 0x16c6356f0>"
      ]
     },
     "execution_count": 136,
     "metadata": {},
     "output_type": "execute_result"
    },
    {
     "data": {
      "image/png": "[encoded data removed]",
      "text/plain": [
       "<Figure size 640x480 with 1 Axes>"
      ]
     },
     "metadata": {},
     "output_type": "display_data"
    }
   ],
   "source": [
    "from lmfit import Model\n",
    "\n",
    "def emulsion_ls_func(x, aa, kk, bb, cc, bg):\n",
    "    first = aa / (kk*kk + x*x)\n",
    "    second = bb / x**4.0\n",
    "    third = cc / x**6.0\n",
    "        \n",
    "    return first + second + third + bg\n",
    "\n",
    "emodel = Model(emulsion_ls_func)\n",
    "\n",
    "params = emodel.make_params(\\\n",
    "    aa=dict(value=2.3E-3, min=0.0),\\\n",
    "    kk=dict(value=0.02),\\\n",
    "    bb=dict(value=2.0E-4, min=0.0),\\\n",
    "    cc=dict(value=1.5E-7, min=0.0),\\\n",
    "    bg=dict(value=1.0, min=0.0)\\\n",
    "           )\n",
    "\n",
    "result = emodel.fit(spec[1], params, x=spec[0], weights = 1.0/spec[2])\n",
    "\n",
    "print(result.fit_report())\n",
    "\n",
    "fig, ax = plt.subplots()\n",
    "ax.errorbar(spec[0], spec[1], spec[2], fmt='o', mfc='none', label=\"Data (hist)\")\n",
    "#ax.plot(spec[0], result.init_fit, '--', color='black', label=\"LSE initial\")\n",
    "ax.plot(spec[0], result.best_fit, color='black', label=\"LSE fit\")\n",
    "ax.set_xscale('log')\n",
    "ax.set_yscale('log')\n",
    "ax.legend()"
   ]
  },
  {
   "cell_type": "code",
   "execution_count": 137,
   "id": "d75fe5a1-64d7-4c08-b0ed-5e4e5bd02947",
   "metadata": {
    "tags": []
   },
   "outputs": [
    {
     "name": "stdout",
     "output_type": "stream",
     "text": [
      "0.004673556267781688\n"
     ]
    }
   ],
   "source": [
    "zeta = result.params[\"cc\"].value / result.params[\"bb\"].value\n",
    "print(zeta)"
   ]
  },
  {
   "cell_type": "markdown",
   "id": "3da70171-cbc3-444b-9a56-6d8f2cadc2f7",
   "metadata": {},
   "source": [
    "This doesn't match the value in the paper of 0.00044 (order of magnitude difference).  I think there is an extra correction going on with the data for transmission, which needs to be done next."
   ]
  },
  {
   "cell_type": "code",
   "execution_count": null,
   "id": "b4ad9c44-9b48-4443-8dfa-6c7cf5fe2b88",
   "metadata": {},
   "outputs": [],
   "source": []
  }
 ],
 "metadata": {
  "kernelspec": {
   "display_name": "Python 3 (ipykernel)",
   "language": "python",
   "name": "python3"
  },
  "language_info": {
   "codemirror_mode": {
    "name": "ipython",
    "version": 3
   },
   "file_extension": ".py",
   "mimetype": "text/x-python",
   "name": "python",
   "nbconvert_exporter": "python",
   "pygments_lexer": "ipython3",
   "version": "3.10.11"
  }
 },
 "nbformat": 4,
 "nbformat_minor": 5
}
