{
 "cells": [
  {
   "cell_type": "markdown",
   "id": "a9cc11fd-850b-40c8-8fed-134f37fa04f7",
   "metadata": {
    "tags": []
   },
   "source": [
    "# Re-analysing ILL Y(Mn1-xFex)2 Data"
   ]
  },
  {
   "cell_type": "markdown",
   "id": "300ae878-2a53-4636-9396-1bc2599340d0",
   "metadata": {},
   "source": [
    "This data was collected 15th July, 2000 (the logbook says 2002, I have no idea why, 2000 sounds right).  In those days, there was no event mode, so this analysis creates events by randomly smapling the histograms.  This is a good test of the method, because we already know what the traditional analysis shows, and we should be able to reproduce the result."
   ]
  },
  {
   "cell_type": "markdown",
   "id": "d7441e77-962a-46d5-8b33-b28a594b3c13",
   "metadata": {
    "tags": []
   },
   "source": [
    "## Histogram Functions"
   ]
  },
  {
   "cell_type": "markdown",
   "id": "0abab8ab-1720-478a-9fbf-da35b0251e73",
   "metadata": {},
   "source": [
    "The first step is to recreate a few of the basic workflow functions before we re-sample the histograms as events."
   ]
  },
  {
   "cell_type": "code",
   "execution_count": 156,
   "id": "cd597c5f-2aed-48fd-91c1-8eb46588d443",
   "metadata": {
    "tags": []
   },
   "outputs": [],
   "source": [
    "import numpy as np\n",
    "import matplotlib.pyplot as plt\n",
    "import matplotlib.cm as cm\n",
    "\n",
    "\n",
    "def plot_detector_map(data):\n",
    "    plt.imshow(data,  interpolation='nearest', cmap=cm.viridis)\n",
    "\n",
    "def read_run(num, info=False, plot=False):\n",
    "    # Reads an individual run in ancient ILL D11 format\n",
    "    \n",
    "    path = \"data/ill/d11/ymnfe2/\"\n",
    "    fnum = str(num).zfill(6)\n",
    "    fullname = path + fnum\n",
    "    print(fullname)\n",
    "    \n",
    "    \n",
    "    datafile = open(fullname, 'r')\n",
    "    lines=datafile.readlines()\n",
    "    meta_elements = [25, 26]\n",
    "    meta = [lines[i].strip() for i in meta_elements]\n",
    "        \n",
    "    comment_block_length = 26\n",
    "        \n",
    "    detector_line_index = [34+comment_block_length]\n",
    "    detector_distance_line_index = [37+comment_block_length]\n",
    "    temperature_line_index = [40+comment_block_length]\n",
    "    wavelength_line_index = [44+comment_block_length]\n",
    "    collimation_line_index = [45+comment_block_length]\n",
    "        \n",
    "    detector_line = [lines[i].strip() for i in detector_line_index]\n",
    "    detector_distance_line = [lines[i].strip() for i in detector_distance_line_index]\n",
    "    temperature_line = [lines[i].strip() for i in temperature_line_index]\n",
    "    wavelength_line = [lines[i].strip() for i in wavelength_line_index]\n",
    "    collimation_line = [lines[i].strip() for i in collimation_line_index]\n",
    "        \n",
    "    detector_sum_index = 3\n",
    "    monitor_sum_index = 4\n",
    "    detector_distance_index = 3\n",
    "    temperature_index = 0\n",
    "    wavelength_index = 2\n",
    "    collimation_index = 2\n",
    "        \n",
    "        \n",
    "    detector_sum = np.float_( detector_line[0].split(\"  \")[detector_sum_index] )\n",
    "    monitor_sum = np.float_( detector_line[0].split(\"  \")[monitor_sum_index] )\n",
    "    det = np.float_( detector_distance_line[0].split(\"  \")[detector_distance_index] )\n",
    "    temp = np.float_( temperature_line[0].split(\"  \")[temperature_index] )\n",
    "    wavelength = np.float_( wavelength_line[0].split(\"  \")[wavelength_index] )\n",
    "    collimation = np.float_( collimation_line[0].split(\"  \")[collimation_index] )\n",
    "        \n",
    "    if info:\n",
    "        print(meta[0])\n",
    "        print(meta[1])\n",
    "        \n",
    "        print(\"Det. sum:\", detector_sum)\n",
    "        print(\"Mon. sum:\", monitor_sum)\n",
    "        print(\"Det. distance:\", det)\n",
    "        print(\"Temp:\", temp)\n",
    "        print(\"Wavelength:\", wavelength)\n",
    "        print(\"Collimation:\", collimation)\n",
    "        \n",
    "        datafile.close()\n",
    "    \n",
    "    # Get some info on run\n",
    "    datafile = open(fullname, 'r')\n",
    "    \n",
    "    # Legacy ILL data for D11 has 118 header rows\n",
    "    lines=datafile.readlines()[118:]#skiprows=118)\n",
    "    \n",
    "\n",
    "    \n",
    "    datafile.close()\n",
    "    \n",
    "    \n",
    "    # The data is a 64x64 detector, but the histo\n",
    "    # counts are recorded with 10 columns in sequence\n",
    "    # Probably a fortran thing from back in the day\n",
    "    \n",
    "    data = []\n",
    "    \n",
    "    for line in lines:\n",
    "        data += line.strip().split(\" \")\n",
    "        \n",
    "    # Now we have each histo entry space separated\n",
    "    # but we also have a lot of empty values\n",
    "    # Each space character was stored.  Remove empty entries\n",
    "    sdata = list(filter(None, data))\n",
    "    \n",
    "    # Convert strings to numpy array of floats\n",
    "    ndata = np.float_(sdata)\n",
    "    \n",
    "    # Re-arrange into 64x64 grid of detector pixels\n",
    "    ndata = ndata.reshape(64,64)\n",
    "    \n",
    "    # plot if necessary\n",
    "    if plot:\n",
    "        plot_detector_map(ndata)\n",
    "    \n",
    "    # It looks like this is the correct orientation,\n",
    "    # with gravity downwards, in plt.imshow.  No rotation \n",
    "    # is required.\n",
    "    # This is an array with [y, x] indices starting top-left\n",
    "    \n",
    "    return ndata, detector_sum, monitor_sum\n",
    "\n",
    "\n",
    "def read_sum(run1, run2, plot=True):\n",
    "    # Reads multiple runs and sums up the data\n",
    "    \n",
    "    data, detector_sum, monitor_sum = read_run(run1, plot=False, info=False)\n",
    "    \n",
    "    for run in range(run1+1, run2+1):\n",
    "        new_data, new_dsum, new_msum = read_run(run, plot=False, info=False)\n",
    "        data = data + new_data\n",
    "        detector_sum = detector_sum + new_dsum\n",
    "        monitor_sum = monitor_sum + new_msum\n",
    "        \n",
    "    if plot:\n",
    "        plot_detector_map(data)\n",
    "    \n",
    "    return data, detector_sum, monitor_sum\n",
    "    \n",
    "    \n",
    "def find_centre(data):\n",
    "    # Uses a TRANSMISSION RUN to find the beam centre\n",
    "    # Weighted mean of pixel coordinate map\n",
    "    \n",
    "    # Arrays are indexed [y, x] with origin in top left\n",
    "    # as plotted in matplotlib imshow\n",
    "    \n",
    "    yint = np.sum(data, axis=1) \n",
    "    xint = np.sum(data, axis=0)\n",
    "    \n",
    "    yint_sum = np.sum(yint)\n",
    "    xint_sum = np.sum(xint)\n",
    "        \n",
    "    yint = yint / yint_sum\n",
    "    xint = xint / xint_sum\n",
    "    \n",
    "    pixval = np.arange(0, 64)\n",
    "    \n",
    "    weightedx = pixval * yint\n",
    "    weightedy = pixval * xint\n",
    "    \n",
    "    xcentre = np.sum(weightedx)\n",
    "    ycentre = np.sum(weightedy)\n",
    "    \n",
    "    print(xcentre)\n",
    "    print(ycentre)\n",
    "    \n",
    "    \n",
    "    "
   ]
  },
  {
   "cell_type": "code",
   "execution_count": 157,
   "id": "2eadb276-afc8-41fb-a462-967de8c163c6",
   "metadata": {
    "tags": []
   },
   "outputs": [
    {
     "name": "stdout",
     "output_type": "stream",
     "text": [
      "data/ill/d11/ymnfe2/006008\n",
      "43384.0\n",
      "30.740918310898024\n",
      "31.505485893416925\n"
     ]
    }
   ],
   "source": [
    "ctr_data, ss, mon = read_run(6008)\n",
    "print(ss)\n",
    "find_centre(ctr_data)"
   ]
  },
  {
   "cell_type": "code",
   "execution_count": 159,
   "id": "324a9223-66d0-404a-86db-370e205bda86",
   "metadata": {
    "tags": []
   },
   "outputs": [
    {
     "data": {
      "image/png": "[encoded data removed]",
      "text/plain": [
       "<Figure size 640x480 with 1 Axes>"
      ]
     },
     "metadata": {},
     "output_type": "display_data"
    }
   ],
   "source": [
    "plot_detector_map(ctr_data)"
   ]
  },
  {
   "cell_type": "code",
   "execution_count": null,
   "id": "5982687c-fec6-4e42-bba7-5a949a35e057",
   "metadata": {},
   "outputs": [],
   "source": []
  }
 ],
 "metadata": {
  "kernelspec": {
   "display_name": "Python 3 (ipykernel)",
   "language": "python",
   "name": "python3"
  },
  "language_info": {
   "codemirror_mode": {
    "name": "ipython",
    "version": 3
   },
   "file_extension": ".py",
   "mimetype": "text/x-python",
   "name": "python",
   "nbconvert_exporter": "python",
   "pygments_lexer": "ipython3",
   "version": "3.11.5"
  }
 },
 "nbformat": 4,
 "nbformat_minor": 5
}
